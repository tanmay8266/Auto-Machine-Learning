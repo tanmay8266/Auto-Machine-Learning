{
 "cells": [
  {
   "cell_type": "code",
   "execution_count": null,
   "metadata": {},
   "outputs": [],
   "source": [
    "import pandas as pd\n",
    "import re\n",
    "import seaborn as sns\n",
    "import matplotlib.pyplot as plt\n",
    "%matplotlib inline\n",
    "from sklearn.model_selection import train_test_split\n",
    "from sklearn.linear_model import LinearRegression\n",
    "from sklearn.feature_selection import RFE\n",
    "from sklearn.linear_model import RidgeCV, LassoCV, Ridge, Lasso"
   ]
  },
  {
   "cell_type": "code",
   "execution_count": null,
   "metadata": {},
   "outputs": [],
   "source": [
    "data = pd.read_csv(\"train.csv\")"
   ]
  },
  {
   "cell_type": "code",
   "execution_count": null,
   "metadata": {},
   "outputs": [],
   "source": [
    "data.head()"
   ]
  },
  {
   "cell_type": "code",
   "execution_count": null,
   "metadata": {},
   "outputs": [],
   "source": [
    "(data.isnull().sum()/data.shape[1])>50"
   ]
  },
  {
   "cell_type": "code",
   "execution_count": null,
   "metadata": {},
   "outputs": [],
   "source": [
    "for i,j in zip(data.columns,data.isnull().sum()/data.shape[1]>50):\n",
    "    if(j==True):\n",
    "        print(i,\" has been dropped\")\n",
    "        data=data.drop(str(i),axis=1)"
   ]
  },
  {
   "cell_type": "code",
   "execution_count": null,
   "metadata": {},
   "outputs": [],
   "source": [
    "#These columns appear to be null\n",
    "#Later implement the datatype matching using regex because int32,64,128 as well as float stuff\n",
    "alter_list=[]\n",
    "for i,j in zip(data.columns,data.isnull().sum()):\n",
    "    if(j>0):\n",
    "        if(data[i].dtypes == \"float64\" or data[i].dtypes == \"int64\"):\n",
    "            data_type=\"Numeric\"\n",
    "        elif(data[i].dtypes == \"object\"):\n",
    "            data_type=\"String\"\n",
    "        else:\n",
    "            data_type=\"\"\n",
    "        print(i,j,\" Data type being : \",data_type)\n",
    "        alter_list.append((i,data_type))"
   ]
  },
  {
   "cell_type": "code",
   "execution_count": null,
   "metadata": {},
   "outputs": [],
   "source": [
    "# data['Age'] = data['Age'].fillna(data['Age'].mean())\n",
    "# data['Embarked'] = data['Embarked'].fillna('S')\n",
    "# data = data.drop(['Name', 'Ticket', 'Fare', 'PassengerId'], axis=1)\n",
    "for i in alter_list:\n",
    "    if i[1] == \"Numeric\":\n",
    "        data[i[0]] = data[i[0]].fillna(data[i[0]].mean())\n",
    "    elif i[1]==\"String\":\n",
    "        print(\"Unique values in the column\",i[0],data[i[0]].unique())\n",
    "        print(\"NUmber of unique vlaues in column\",i[0], data[i[0]].nunique())\n",
    "        print(\"Number of each unique value occurances made in column\",i[0]+\":\\n\",data[i[0]].value_counts(dropna=False))\n",
    "        import math\n",
    "        toleration_limit = math.floor(data.shape[0]*0.1)\n",
    "        if data[i[0]].nunique()>toleration_limit:\n",
    "            data = data.drop(i[0],axis=1)\n",
    "        else:\n",
    "            maxm_occ = data[i[0]].value_counts(dropna=False)[:1].index.tolist()\n",
    "            print(maxm_occ[0])\n",
    "            data[i[0]].fillna(maxm_occ[0])\n",
    "            \n",
    "#         data[i[0]] = data[i[0]].fillna(data[i[0]])"
   ]
  },
  {
   "cell_type": "code",
   "execution_count": null,
   "metadata": {},
   "outputs": [],
   "source": [
    "data = pd.get_dummies(data)\n",
    "print(data.head())\n",
    "X=data.drop(\"Survived\",1)\n",
    "y=data[\"Survived\"]\n",
    "data.isnull().sum()"
   ]
  },
  {
   "cell_type": "code",
   "execution_count": null,
   "metadata": {},
   "outputs": [],
   "source": [
    "reg = LassoCV()\n",
    "reg.fit(X, y)\n",
    "print(\"Best alpha using built-in LassoCV: %f\" % reg.alpha_)\n",
    "print(\"Best score using built-in LassoCV: %f\" %reg.score(X,y))\n",
    "coef = pd.Series(reg.coef_, index = X.columns)"
   ]
  },
  {
   "cell_type": "code",
   "execution_count": null,
   "metadata": {},
   "outputs": [],
   "source": [
    "print(\"Lasso picked \" + str(sum(coef != 0)) + \" variables and eliminated the other \" +  str(sum(coef == 0)) + \" variables\")"
   ]
  },
  {
   "cell_type": "code",
   "execution_count": null,
   "metadata": {
    "scrolled": true
   },
   "outputs": [],
   "source": [
    "imp_coef = coef.sort_values()\n",
    "import matplotlib\n",
    "matplotlib.rcParams['figure.figsize'] = (8.0, 10.0)\n",
    "imp_coef.plot(kind = \"barh\")\n",
    "plt.title(\"Feature importance using Lasso Model\")"
   ]
  },
  {
   "cell_type": "code",
   "execution_count": null,
   "metadata": {},
   "outputs": [],
   "source": [
    "#Using Pearson Correlation\n",
    "cor = data.corr()\n",
    "imp_fact = abs(cor['Survived'])\n",
    "matplotlib.rcParams['figure.figsize'] = (8.0, 10.0)\n",
    "imp_fact.plot(kind = \"barh\")\n",
    "plt.show()\n",
    "plt.figure(figsize=(10,10))\n",
    "sns.heatmap(cor, annot=True, cmap=plt.cm.Reds)\n",
    "plt.show()"
   ]
  },
  {
   "cell_type": "code",
   "execution_count": null,
   "metadata": {},
   "outputs": [],
   "source": [
    "#Correlation with output variable\n",
    "cor_target = abs(cor[\"Survived\"])\n",
    "#Selecting highly correlated features\n",
    "relevant_features = cor_target[cor_target>0.2]\n",
    "relevant_features"
   ]
  },
  {
   "cell_type": "code",
   "execution_count": null,
   "metadata": {},
   "outputs": [],
   "source": [
    "from sklearn.linear_model import LogisticRegression\n"
   ]
  },
  {
   "cell_type": "code",
   "execution_count": null,
   "metadata": {},
   "outputs": [],
   "source": [
    "model = LogisticRegression(fit_intercept=True)"
   ]
  },
  {
   "cell_type": "code",
   "execution_count": null,
   "metadata": {},
   "outputs": [],
   "source": [
    "survived_train = data.Survived\n",
    "data = data.drop(\"Survived\",axis=1)\n",
    "train_data = data.values[:600]\n",
    "labels = survived_train[:600]\n",
    "eval_data = data.values[600:]\n",
    "eval_labels = survived_train[600:]"
   ]
  },
  {
   "cell_type": "code",
   "execution_count": null,
   "metadata": {},
   "outputs": [],
   "source": [
    "model.fit(train_data, labels)\n",
    "eval_predictions = model.predict(eval_data)"
   ]
  },
  {
   "cell_type": "code",
   "execution_count": null,
   "metadata": {},
   "outputs": [],
   "source": [
    "print('Accuracy of the model on train data: {0}'.format(model.score(train_data, labels)))"
   ]
  },
  {
   "cell_type": "code",
   "execution_count": null,
   "metadata": {},
   "outputs": [],
   "source": [
    "print('Accuracy of the model on eval data: {0}'.format(model.score(eval_data, eval_labels)))"
   ]
  },
  {
   "cell_type": "code",
   "execution_count": null,
   "metadata": {},
   "outputs": [],
   "source": [
    "data\n"
   ]
  },
  {
   "cell_type": "code",
   "execution_count": null,
   "metadata": {},
   "outputs": [],
   "source": []
  }
 ],
 "metadata": {
  "kernelspec": {
   "display_name": "Python 3",
   "language": "python",
   "name": "python3"
  },
  "language_info": {
   "codemirror_mode": {
    "name": "ipython",
    "version": 3
   },
   "file_extension": ".py",
   "mimetype": "text/x-python",
   "name": "python",
   "nbconvert_exporter": "python",
   "pygments_lexer": "ipython3",
   "version": "3.7.4"
  }
 },
 "nbformat": 4,
 "nbformat_minor": 2
}
