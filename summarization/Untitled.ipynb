{
 "cells": [
  {
   "cell_type": "code",
   "execution_count": 1,
   "metadata": {},
   "outputs": [],
   "source": [
    "def _create_frequency_table(text_string) -> dict:\n",
    "\n",
    "    stopWords = set(stopwords.words(\"english\"))\n",
    "    words = word_tokenize(text_string)\n",
    "    ps = PorterStemmer()\n",
    "\n",
    "    freqTable = dict()\n",
    "    for word in words:\n",
    "        word = ps.stem(word)\n",
    "        if word in stopWords:\n",
    "            continue\n",
    "        if word in freqTable:\n",
    "            freqTable[word] += 1\n",
    "        else:\n",
    "            freqTable[word] = 1\n",
    "\n",
    "    return freqTable"
   ]
  },
  {
   "cell_type": "code",
   "execution_count": 2,
   "metadata": {},
   "outputs": [],
   "source": [
    "def _score_sentences(sentences, freqTable) -> dict:\n",
    "    sentenceValue = dict()\n",
    "\n",
    "    for sentence in sentences:\n",
    "        word_count_in_sentence = (len(word_tokenize(sentence)))\n",
    "        for wordValue in freqTable:\n",
    "            if wordValue in sentence.lower():\n",
    "                if sentence[:10] in sentenceValue:\n",
    "                    sentenceValue[sentence[:10]] += freqTable[wordValue]\n",
    "                else:\n",
    "                    sentenceValue[sentence[:10]] = freqTable[wordValue]\n",
    "\n",
    "        sentenceValue[sentence[:10]] = sentenceValue[sentence[:10]] // word_count_in_sentence\n",
    "\n",
    "    return sentenceValue"
   ]
  },
  {
   "cell_type": "code",
   "execution_count": 3,
   "metadata": {},
   "outputs": [],
   "source": [
    "def _find_average_score(sentenceValue) -> int:\n",
    "    sumValues = 0\n",
    "    for entry in sentenceValue:\n",
    "        sumValues += sentenceValue[entry]\n",
    "\n",
    "    # Average value of a sentence from original text\n",
    "    average = int(sumValues / len(sentenceValue))\n",
    "\n",
    "    return average"
   ]
  },
  {
   "cell_type": "code",
   "execution_count": 4,
   "metadata": {},
   "outputs": [],
   "source": [
    "def _generate_summary(sentences, sentenceValue, threshold):\n",
    "    sentence_count = 0\n",
    "    summary = ''\n",
    "\n",
    "    for sentence in sentences:\n",
    "        if sentence[:10] in sentenceValue and sentenceValue[sentence[:10]] > (threshold):\n",
    "            summary += \" \" + sentence\n",
    "            sentence_count += 1\n",
    "\n",
    "    return summary"
   ]
  },
  {
   "cell_type": "code",
   "execution_count": 21,
   "metadata": {},
   "outputs": [
    {
     "name": "stdin",
     "output_type": "stream",
     "text": [
      "Enter doc :  WE went tiptoeing along a path amongst the trees back towards the end of the widow’s garden, stooping down so as the branches wouldn’t scrape our heads. When we was passing by the kitchen I fell over a root and made a noise.  We scrouched down and laid still.  Miss Watson’s big nigger, named Jim, was setting in the kitchen door; we could see him pretty clear, because there was a light behind him.  He got up and stretched his neck out about a minute, listening.  Then he says:  “Who dah?”  He listened some more; then he come tiptoeing down and stood right between us; we could a touched him, nearly.  Well, likely it was minutes and minutes that there warn’t a sound, and we all there so close together.  There was a place on my ankle that got to itching, but I dasn’t scratch it; and then my ear begun to itch; and next my back, right between my shoulders.  Seemed like I’d die if I couldn’t scratch.  Well, I’ve noticed that thing plenty times since.  If you are with the quality, or at a funeral, or trying to go to sleep when you ain’t sleepy—if you are anywheres where it won’t do for you to scratch, why you will itch all over in upwards of a thousand places. Pretty soon Jim says:  “Say, who is you?  Whar is you?  Dog my cats ef I didn’ hear sumf’n. Well, I know what I’s gwyne to do:  I’s gwyne to set down here and listen tell I hears it agin.” So he set down on the ground betwixt me and Tom.  He leaned his back up against a tree, and stretched his legs out till one of them most touched one of mine.  My nose begun to itch.  It itched till the tears come into my eyes.  But I dasn’t scratch.  Then it begun to itch on the inside. Next I got to itching underneath.  I didn’t know how I was going to set still. This miserableness went on as much as six or seven minutes; but it seemed a sight longer than that.  I was itching in eleven different places now.  I reckoned I couldn’t stand it more’n a minute longer, but I set my teeth hard and got ready to try.  Just then Jim begun to breathe heavy; next he begun to snore—and then I was pretty soon comfortable again.  Tom he made a sign to me—kind of a little noise with his mouth—and we went creeping away on our hands and knees.  When we was ten foot off Tom whispered to me, and wanted to tie Jim to the tree for fun.  But I said no; he might wake and make a disturbance, and then they’d find out I warn’t in. Then Tom said he hadn’t got candles enough, and he would slip in the kitchen and get some more.  I didn’t want him to try.  I said Jim might wake up and come.  But Tom wanted to resk it; so we slid in there and got three candles, and Tom laid five cents on the table for pay. Then we got out, and I was in a sweat to get away; but nothing would do Tom but he must crawl to where Jim was, on his hands and knees, and play something on him.  I waited, and it seemed a good while, everything was so still and lonesome.  As soon as Tom was back we cut along the path, around the garden fence, and by and by fetched up on the steep top of the hill the other side of the house.  Tom said he slipped Jim’s hat off of his head and hung it on a limb right over him, and Jim stirred a little, but he didn’t wake. Afterwards Jim said the witches be witched him and put him in a trance, and rode him all over the State, and then set him under the trees again, and hung his hat on a limb to show who done it.  And next time Jim told it he said they rode him down to New Orleans; and, after that, every time he told it he spread it more and more, till by and by he said they rode him all over the world, and tired him most to death, and his back was all over saddle-boils.  Jim was monstrous proud about it, and he got so he wouldn’t hardly notice the other niggers.  Niggers would come miles to hear Jim tell about it, and he was more looked up to than any nigger in that country.  Strange niggers would stand with their mouths open and look him all over, same as if he was a wonder.  Niggers is always talking about witches in the dark by the kitchen fire; but whenever one was talking and letting on to know all about such things, Jim would happen in and say, “Hm!  What you know ’bout witches?” and that nigger was corked up and had to take a back seat.  Jim always kept that five-center piece round his neck with a string, and said it was a charm the devil give to him with his own hands, and told him he could cure anybody with it and fetch witches whenever he wanted to just by saying something to it; but he never told what it was he said to it.  Niggers would come from all around there and give Jim anything they had, just for a sight of that five-center piece; but they wouldn’t touch it, because the devil had had his hands on it.  Jim was most ruined for a servant, because he got stuck up on account of having seen the devil and been rode by witches.  Well, when Tom and me got to the edge of the hilltop we looked away down into the village and could see three or four lights twinkling, where there was sick folks, maybe; and the stars over us was sparkling ever so fine; and down by the village was the river, a whole mile broad, and awful still and grand.  We went down the hill and found Jo Harper and Ben Rogers, and two or three more of the boys, hid in the old tanyard.  So we unhitched a skiff and pulled down the river two mile and a half, to the big scar on the hillside, and went ashore.  We went to a clump of bushes, and Tom made everybody swear to keep the secret, and then showed them a hole in the hill, right in the thickest part of the bushes.  Then we lit the candles, and crawled in on our hands and knees.  We went about two hundred yards, and then the cave opened up. Tom poked about amongst the passages, and pretty soon ducked under a wall where you wouldn’t a noticed that there was a hole.  We went along a narrow place and got into a kind of room, all damp and sweaty and cold, and there we stopped.  Tom says:  “Now, we’ll start this band of robbers and call it Tom Sawyer’s Gang. Everybody that wants to join has got to take an oath, and write his name in blood.” \n"
     ]
    }
   ],
   "source": [
    "from nltk.corpus import stopwords\n",
    "from nltk.stem import PorterStemmer\n",
    "from nltk.tokenize import word_tokenize, sent_tokenize\n",
    "\n",
    "text = input(\"Enter doc : \")\n",
    "# 1 Create the word frequency table\n",
    "freq_table = _create_frequency_table(text)\n",
    "\n",
    "'''\n",
    "We already have a sentence tokenizer, so we just need \n",
    "to run the sent_tokenize() method to create the array of sentences.\n",
    "'''\n",
    "\n",
    "# 2 Tokenize the sentences\n",
    "sentences = sent_tokenize(text)\n",
    "\n",
    "# 3 Important Algorithm: score the sentences\n",
    "sentence_scores = _score_sentences(sentences, freq_table)\n",
    "\n",
    "# 4 Find the threshold\n",
    "threshold = _find_average_score(sentence_scores)\n",
    "\n",
    "# 5 Important Algorithm: Generate the summary\n",
    "summary = _generate_summary(sentences, sentence_scores, 1.0 * threshold)"
   ]
  },
  {
   "cell_type": "code",
   "execution_count": 22,
   "metadata": {},
   "outputs": [
    {
     "data": {
      "text/plain": [
       "' When we was passing by the kitchen I fell over a root and made a noise. We scrouched down and laid still. Miss Watson’s big nigger, named Jim, was setting in the kitchen door; we could see him pretty clear, because there was a light behind him. He got up and stretched his neck out about a minute, listening. Well, likely it was minutes and minutes that there warn’t a sound, and we all there so close together. Well, I’ve noticed that thing plenty times since. Pretty soon Jim says:  “Say, who is you? My nose begun to itch. But I dasn’t scratch. Next I got to itching underneath. I didn’t know how I was going to set still. I was itching in eleven different places now. When we was ten foot off Tom whispered to me, and wanted to tie Jim to the tree for fun. But I said no; he might wake and make a disturbance, and then they’d find out I warn’t in. Then Tom said he hadn’t got candles enough, and he would slip in the kitchen and get some more. I didn’t want him to try. I said Jim might wake up and come. I waited, and it seemed a good while, everything was so still and lonesome. Jim was monstrous proud about it, and he got so he wouldn’t hardly notice the other niggers. Strange niggers would stand with their mouths open and look him all over, same as if he was a wonder. Jim was most ruined for a servant, because he got stuck up on account of having seen the devil and been rode by witches. Then we lit the candles, and crawled in on our hands and knees. We went about two hundred yards, and then the cave opened up. Tom poked about amongst the passages, and pretty soon ducked under a wall where you wouldn’t a noticed that there was a hole. Tom says:  “Now, we’ll start this band of robbers and call it Tom Sawyer’s Gang. Everybody that wants to join has got to take an oath, and write his name in blood.”'"
      ]
     },
     "execution_count": 22,
     "metadata": {},
     "output_type": "execute_result"
    }
   ],
   "source": [
    "summary"
   ]
  },
  {
   "cell_type": "code",
   "execution_count": null,
   "metadata": {},
   "outputs": [],
   "source": []
  }
 ],
 "metadata": {
  "kernelspec": {
   "display_name": "local-venv",
   "language": "python",
   "name": "local-venv"
  },
  "language_info": {
   "codemirror_mode": {
    "name": "ipython",
    "version": 3
   },
   "file_extension": ".py",
   "mimetype": "text/x-python",
   "name": "python",
   "nbconvert_exporter": "python",
   "pygments_lexer": "ipython3",
   "version": "3.6.9"
  }
 },
 "nbformat": 4,
 "nbformat_minor": 4
}
